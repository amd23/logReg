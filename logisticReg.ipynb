{
 "cells": [
  {
   "cell_type": "code",
   "execution_count": 30,
   "metadata": {},
   "outputs": [
    {
     "name": "stderr",
     "output_type": "stream",
     "text": [
      "C:\\Users\\User\\Anaconda3\\lib\\site-packages\\ipykernel_launcher.py:7: RuntimeWarning: overflow encountered in exp\n",
      "  import sys\n"
     ]
    }
   ],
   "source": [
    "import matplotlib.pyplot as plt\n",
    "%matplotlib inline\n",
    "import sys\n",
    "import numpy as np\n",
    "\n",
    "def sigmoid(z):\n",
    "    return 1/(1 + np.exp(-z))\n",
    "\n",
    "assert(sigmoid(0) == 0.5)\n",
    "assert(sigmoid(10000) == 1.0)\n",
    "assert(sigmoid(-10000) == 0.0)"
   ]
  },
  {
   "cell_type": "code",
   "execution_count": 31,
   "metadata": {},
   "outputs": [
    {
     "data": {
      "image/png": "[encoded data removed]",
      "text/plain": [
       "<matplotlib.figure.Figure at 0xdb5e87bc50>"
      ]
     },
     "metadata": {},
     "output_type": "display_data"
    }
   ],
   "source": [
    "plt.plot(np.arange(-10, 10, 0.5), [sigmoid(z) for z in np.arange(-10, 10, 0.5)])\n",
    "plt.show()"
   ]
  },
  {
   "cell_type": "code",
   "execution_count": 35,
   "metadata": {},
   "outputs": [
    {
     "ename": "SyntaxError",
     "evalue": "invalid syntax (<ipython-input-35-26c973561ed6>, line 37)",
     "output_type": "error",
     "traceback": [
      "\u001b[1;36m  File \u001b[1;32m\"<ipython-input-35-26c973561ed6>\"\u001b[1;36m, line \u001b[1;32m37\u001b[0m\n\u001b[1;33m    \"\"\" Fit training data.\u001b[0m\n\u001b[1;37m                          \n^\u001b[0m\n\u001b[1;31mSyntaxError\u001b[0m\u001b[1;31m:\u001b[0m invalid syntax\n"
     ]
    }
   ],
   "source": [
    "import numpy as np\n",
    "\n",
    "class LogisticRegression(object):\n",
    "    #eta is the learning rate between 0.0 and 1.0\n",
    "\n",
    "    #epochs passes over the training dataset\n",
    "\n",
    "    \n",
    "     #learning rule, sgd (stochastic gradient descent)or gd (gradient descent).\n",
    "\n",
    "    #lambda is regularization parameter for L2 regularization.No regularization if lambda_=0.0.\n",
    "\n",
    "    \n",
    "    #w is Weights after fitting.\n",
    "\n",
    "    #cost is list of floats with sum of squared error cost (sgd or gd) for every  epoch.\n",
    "\n",
    "    def __init__(self, eta=0.01, epochs=50, lambda_=0.0, learning='sgd'):\n",
    "        self.eta = eta\n",
    "        self.epochs = epochs\n",
    "        self.lambda_ = lambda_\n",
    "\n",
    "        if not learning in ('sgd', 'gd'):\n",
    "            raise ValueError('learning must be sgd or gd')\n",
    "        self.learning = learning\n",
    "\n",
    "\n",
    "    def fit(self, X, y, init_weights=None):\n",
    "        \"\"\" Fit training data.\n",
    "\n",
    "        Parameters\n",
    "        ----------\n",
    "        X : {array-like, sparse matrix}, shape = [n_samples, n_features]\n",
    "            Training vectors, where n_samples is the number of samples and\n",
    "            n_features is the number of features.\n",
    "\n",
    "        y : array-like, shape = [n_samples]\n",
    "            Target values.\n",
    "\n",
    "        init_weights : array-like, shape = [n_features + 1]\n",
    "            Initial weights for the classifier. If None, weights\n",
    "            are initialized to 0.\n",
    "\n",
    "        Returns\n",
    "        -------\n",
    "        self : object\n",
    "\n",
    "        \"\"\"\n",
    "        if not len(X.shape) == 2:\n",
    "            raise ValueError('X must be a 2D array. Try X[:,np.newaxis]')\n",
    "\n",
    "        if (np.unique(y) != np.array([0, 1])).all():\n",
    "            raise ValueError('Supports only binary class labels 0 and 1')\n",
    "\n",
    "        if not isinstance(init_weights, np.ndarray):\n",
    "        # Initialize weights to 0\n",
    "            self.w_ = np.zeros(1 + X.shape[1])\n",
    "        else:\n",
    "            self.w_ = init_weights\n",
    "\n",
    "        self.cost_ = []\n",
    "\n",
    "        for i in range(self.epochs):\n",
    "\n",
    "            if self.learning == 'gd':\n",
    "                y_val = self.activation(X)\n",
    "                errors = (y - y_val)\n",
    "                regularize = self.lambda_ * self.w_[1:]\n",
    "                self.w_[1:] += self.eta * X.T.dot(errors)\n",
    "                self.w_[1:] += regularize\n",
    "                self.w_[0] += self.eta * errors.sum()\n",
    "\n",
    "            elif self.learning == 'sgd':\n",
    "                cost = 0.0\n",
    "                for xi, yi in zip(X, y):\n",
    "                    yi_val = self.activation(xi)\n",
    "                    error = (yi - yi_val)\n",
    "                    regularize = self.lambda_ * self.w_[1:]\n",
    "                    self.w_[1:] += self.eta * xi.dot(error)\n",
    "                    self.w_[1:] += regularize\n",
    "                    self.w_[0] += self.eta * error\n",
    "\n",
    "            self.cost_.append(self._logit_cost(y, self.activation(X)))\n",
    "        return self\n",
    "\n",
    "\n",
    "    def predict(self, X):\n",
    "        \"\"\"\n",
    "        Predict class labels for X.\n",
    "\n",
    "        Parameters\n",
    "        ----------\n",
    "        X : {array-like, sparse matrix}, shape = [n_samples, n_features]\n",
    "            Training vectors, where n_samples is the number of samples and\n",
    "            n_features is the number of features.\n",
    "\n",
    "        Returns\n",
    "        ----------\n",
    "        class : int\n",
    "          Predicted class label.\n",
    "\n",
    "        \"\"\"\n",
    "        # equivalent to np.where(self.activation(X) >= 0.5, 1, 0)\n",
    "        return np.where(self.net_input(X) >= 0.0, 1, 0)\n",
    "\n",
    "\n",
    "    def net_input(self, X):\n",
    "        \"\"\" Net input function. \"\"\"\n",
    "        return X.dot(self.w_[1:]) + self.w_[0]\n",
    "\n",
    "\n",
    "    def activation(self, X):\n",
    "        \"\"\"\n",
    "        Predict class probabilities for X.\n",
    "\n",
    "        Parameters\n",
    "        ----------\n",
    "        X : {array-like, sparse matrix}, shape = [n_samples, n_features]\n",
    "            Training vectors, where n_samples is the number of samples and\n",
    "            n_features is the number of features.\n",
    "\n",
    "        Returns\n",
    "        ----------\n",
    "        int\n",
    "          Class probability.\n",
    "\n",
    "        \"\"\"\n",
    "        z = self.net_input(X)\n",
    "        return self._sigmoid(z)\n",
    "\n",
    "\n",
    "    def _logit_cost(self, y, y_val):\n",
    "        logit = -y.dot(np.log(y_val)) - ((1 - y).dot(np.log(1 - y_val)))\n",
    "        regularize = (self.lambda_ / 2) * self.w_[1:].dot(self.w_[1:])\n",
    "        return logit + regularize\n",
    "\n",
    "\n",
    "    def _sigmoid(self, z):\n",
    "         return 1.0 / (1.0 + np.exp(-z))"
   ]
  },
  {
   "cell_type": "code",
   "execution_count": null,
   "metadata": {},
   "outputs": [],
   "source": []
  },
  {
   "cell_type": "code",
   "execution_count": 33,
   "metadata": {},
   "outputs": [
    {
     "data": {
      "text/plain": [
       "<__main__.LogisticRegression at 0xdb5e87b550>"
      ]
     },
     "execution_count": 33,
     "metadata": {},
     "output_type": "execute_result"
    }
   ],
   "source": [
    "import matplotlib.pyplot as plt\n",
    "%matplotlib inline\n",
    "import sys\n",
    "import pandas as pd\n",
    "import numpy as np\n",
    "import mlxtend\n",
    "\n",
    "\n",
    "\n",
    "df = pd.read_csv('https://archive.ics.uci.edu/ml/machine-learning-databases/iris/iris.data', header=None)\n",
    "\n",
    "# setosa and versicolor\n",
    "y = df.iloc[0:100, 4].values\n",
    "y = np.where(y == 'Iris-setosa', 0, 1)\n",
    "\n",
    "# sepal length and petal length\n",
    "X = df.iloc[0:100, [0,2]].values\n",
    "\n",
    "# standardize features\n",
    "X_std = np.copy(X)\n",
    "X_std[:,0] = (X[:,0] - X[:,0].mean()) / X[:,0].std()\n",
    "X_std[:,1] = (X[:,1] - X[:,1].mean()) / X[:,1].std()\n",
    "\n",
    "lr = LogisticRegression(eta=0.1, epochs=100)\n",
    "lr.fit(X_std, y)\n"
   ]
  },
  {
   "cell_type": "code",
   "execution_count": 34,
   "metadata": {},
   "outputs": [
    {
     "data": {
      "image/png": "[encoded data removed]",
      "text/plain": [
       "<matplotlib.figure.Figure at 0xdb5e886278>"
      ]
     },
     "metadata": {},
     "output_type": "display_data"
    }
   ],
   "source": [
    "plt.plot(range(len(lr.cost_)), lr.cost_)\n",
    "plt.xlabel('Iterations')\n",
    "plt.ylabel('Cost')\n",
    "plt.title('Stochastic Gradient Descent')\n",
    "#plt.text(40, 45, 'eta = 0.01')\n",
    "plt.show()"
   ]
  },
  {
   "cell_type": "code",
   "execution_count": null,
   "metadata": {
    "collapsed": true
   },
   "outputs": [],
   "source": []
  },
  {
   "cell_type": "code",
   "execution_count": null,
   "metadata": {
    "collapsed": true
   },
   "outputs": [],
   "source": []
  },
  {
   "cell_type": "code",
   "execution_count": null,
   "metadata": {
    "collapsed": true
   },
   "outputs": [],
   "source": []
  },
  {
   "cell_type": "code",
   "execution_count": null,
   "metadata": {
    "collapsed": true
   },
   "outputs": [],
   "source": []
  }
 ],
 "metadata": {
  "kernelspec": {
   "display_name": "Python 3",
   "language": "python",
   "name": "python3"
  },
  "language_info": {
   "codemirror_mode": {
    "name": "ipython",
    "version": 3
   },
   "file_extension": ".py",
   "mimetype": "text/x-python",
   "name": "python",
   "nbconvert_exporter": "python",
   "pygments_lexer": "ipython3",
   "version": "3.6.3"
  }
 },
 "nbformat": 4,
 "nbformat_minor": 2
}
